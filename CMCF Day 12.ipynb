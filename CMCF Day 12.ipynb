{
 "cells": [
  {
   "cell_type": "code",
   "execution_count": 1,
   "id": "a312d251",
   "metadata": {},
   "outputs": [],
   "source": [
    "import pandas as pd\n",
    "import pyspark as spark\n",
    "import seaborn as sns\n",
    "import matplotlib.pyplot  as plt\n",
    "import numpy as np\n",
    "import os.path\n",
    "from os import listdir\n",
    "from os.path import isfile, join\n",
    "import scipy.io as sio\n",
    "from scipy.signal import find_peaks \n",
    "from bioinfokit.analys import stat\n",
    "import math\n",
    "import shelve"
   ]
  },
  {
   "cell_type": "code",
   "execution_count": 2,
   "id": "83cb23de",
   "metadata": {},
   "outputs": [],
   "source": [
    "%run -i cmcf_functions.ipynb"
   ]
  },
  {
   "cell_type": "code",
   "execution_count": 3,
   "id": "233d2751",
   "metadata": {},
   "outputs": [],
   "source": [
    "pd.set_option('display.max_columns', None)"
   ]
  },
  {
   "cell_type": "code",
   "execution_count": 4,
   "id": "a075654a",
   "metadata": {},
   "outputs": [],
   "source": [
    "sns.set(rc={'figure.figsize':(10,5)})\n",
    "res = stat()\n",
    "ordered = [\"CM\", \"Condition Media\", \"CMCF\", \"DCM\"]"
   ]
  },
  {
   "cell_type": "markdown",
   "id": "02d16fab",
   "metadata": {},
   "source": [
    "## Day 12"
   ]
  },
  {
   "cell_type": "code",
   "execution_count": 5,
   "id": "e8b780f2",
   "metadata": {},
   "outputs": [],
   "source": [
    "max_array_d12 = {}\n",
    "tau_array_d12 = {}\n",
    "lax_time_array_d12 = {}\n",
    "up_array_d12 = {}\n",
    "time_at_max_array_d12  = {}"
   ]
  },
  {
   "cell_type": "markdown",
   "id": "f0057af1",
   "metadata": {},
   "source": [
    "### CF"
   ]
  },
  {
   "cell_type": "code",
   "execution_count": 6,
   "id": "1e28788d",
   "metadata": {},
   "outputs": [],
   "source": [
    "d12_val = \"Condition Media\" \n",
    "pathname = os.path.join(os.path.join(os.path.join('Full CMCF Data', 'CF'),\"D12\"),\"Strain_Data\")\n",
    "\n",
    "onlyfiles = [f for f in listdir(pathname) if isfile(join(pathname, f))]\n",
    "cfd12_datas = []\n",
    "\n",
    "for i in range(len(onlyfiles)):\n",
    "    cfd12 = sio.loadmat(os.path.join(pathname, onlyfiles[i]))\n",
    "    cfd12_datas.append(cfd12)"
   ]
  },
  {
   "cell_type": "code",
   "execution_count": 7,
   "id": "e31bdf9f",
   "metadata": {},
   "outputs": [],
   "source": [
    "data_len = len(cfd12_datas)\n",
    "all_vals = {}\n",
    "peaks_count = {}\n",
    "peaks = {}\n",
    "max_vals = {}\n",
    "bases = {}\n",
    "for i in range(len(cfd12_datas)):\n",
    "    x = cfd12_datas[i][\"E2\"]\n",
    "    num_counts = []\n",
    "    #determine baseline through trial and error with given part of cell experiences no contraction\n",
    "    val = .008\n",
    "    #loop through each image\n",
    "    for img in x.swapaxes(2,0).swapaxes(1,2) :\n",
    "        thresh_val = thresh(img,val)\n",
    "        num_counts.append(thresh_val)\n",
    "    all_vals[i] = num_counts\n",
    "    peaks[i], vals  = find_peaks(num_counts, prominence = .56, height = .5, width = 2)\n",
    "    max_vals[i] = vals[\"peak_heights\"]"
   ]
  },
  {
   "cell_type": "code",
   "execution_count": 8,
   "id": "d779cefd",
   "metadata": {},
   "outputs": [],
   "source": [
    "max_dict = dict([ (k,pd.Series(v)) for k,v in max_vals.items() ])\n",
    "max_df = pd.DataFrame(max_dict)\n",
    "max_array_d12[d12_val] = np.concatenate(list(max_dict.values()))\n",
    "peaks_count = {key: len(value) for key, value in peaks.items()}"
   ]
  },
  {
   "cell_type": "code",
   "execution_count": 9,
   "id": "e0c19bf4",
   "metadata": {},
   "outputs": [
    {
     "name": "stderr",
     "output_type": "stream",
     "text": [
      "<ipython-input-2-fa06b561dfcd>:38: DeprecationWarning: The default dtype for empty Series will be 'object' instead of 'float64' in a future version. Specify a dtype explicitly to silence this warning.\n",
      "  f_dict = dict([ (k,pd.Series(v)) for k,v in e_dict.items() ])\n"
     ]
    }
   ],
   "source": [
    "#Relaxation Rate \n",
    "df_tau,tau_array_d12[d12_val] = funcToPlot(tau, all_vals, peaks_count, data_len, max_df)\n",
    "#Relaxation Time\n",
    "df_time_val, lax_time_array_d12[d12_val] = funcToPlot(timeToRest, all_vals, peaks_count, data_len, max_df)\n",
    "#Contraction Rate\n",
    "df_up_val, up_array_d12[d12_val] = funcToPlot(backTau, all_vals, peaks_count, data_len, max_df)\n",
    "#Time at Max\n",
    "df_time_max_val, time_at_max_array_d12[d12_val] = funcToPlot(atMax, all_vals, peaks_count, data_len, max_df)"
   ]
  },
  {
   "cell_type": "code",
   "execution_count": 10,
   "id": "1ba806ba",
   "metadata": {
    "scrolled": true
   },
   "outputs": [],
   "source": [
    "# for i in range(len(cfd12_datas)):\n",
    "   \n",
    "#     x = cfd12_datas[i][\"E2\"]\n",
    "    \n",
    "#     num_counts = []\n",
    "#     #determine baseline through trial and error with given part of cell experiences no contraction\n",
    "#     val = .008\n",
    "#     #loop through each image\n",
    "#     for img in x.swapaxes(2,0).swapaxes(1,2) :\n",
    "#         thresh_val = thresh(img,val)\n",
    "#         num_counts.append(thresh_val)\n",
    "#     df = pd.DataFrame(dict(x = np.arange(0,x.shape[2]), y = num_counts)) \n",
    "#     plt.figure()\n",
    "#     g = sns.lineplot(data = df, y = \"y\", x= \"x\")\n",
    "#     g.set_xticks(np.arange(0,275,10))\n",
    "#     g.set_title(i)"
   ]
  },
  {
   "cell_type": "markdown",
   "id": "061ae8f2",
   "metadata": {},
   "source": [
    "### CM"
   ]
  },
  {
   "cell_type": "code",
   "execution_count": 11,
   "id": "2a21cb55",
   "metadata": {},
   "outputs": [],
   "source": [
    "d12_val = \"CM\" \n",
    "pathname = os.path.join(os.path.join(os.path.join('Full CMCF Data', 'CM'),\"D12\"),\"Strain_Data\")\n",
    "\n",
    "onlyfiles = [f for f in listdir(pathname) if isfile(join(pathname, f))]\n",
    "cmd12_datas = []\n",
    "\n",
    "for i in range(len(onlyfiles)):\n",
    "    cmd12 = sio.loadmat(os.path.join(pathname, onlyfiles[i]))\n",
    "    cmd12_datas.append(cmd12)"
   ]
  },
  {
   "cell_type": "code",
   "execution_count": 12,
   "id": "f2d87d96",
   "metadata": {},
   "outputs": [],
   "source": [
    "data_len = len(cmd12_datas)\n",
    "all_vals = {}\n",
    "peaks_count = {}\n",
    "peaks = {}\n",
    "max_vals = {}\n",
    "for i in range(len(cmd12_datas)):\n",
    "    x = cmd12_datas[i][\"E2\"]\n",
    "    num_counts = []\n",
    "    #determine baseline through trial and error with given part of cell experiences no contraction\n",
    "    val = .008\n",
    "    #loop through each image\n",
    "    for img in x.swapaxes(2,0).swapaxes(1,2) :\n",
    "        thresh_val = thresh(img,val)\n",
    "        num_counts.append(thresh_val)\n",
    "    all_vals[i] = num_counts\n",
    "    peaks[i], vals  = find_peaks(num_counts, prominence = .55, height = .5, width = 2)\n",
    "    max_vals[i] = vals[\"peak_heights\"]"
   ]
  },
  {
   "cell_type": "code",
   "execution_count": 13,
   "id": "86c5dad4",
   "metadata": {},
   "outputs": [],
   "source": [
    "max_dict = dict([ (k,pd.Series(v)) for k,v in max_vals.items() ])\n",
    "max_df = pd.DataFrame(max_dict)\n",
    "max_array_d12[d12_val] = np.concatenate(list(max_dict.values()))\n",
    "peaks_count = {key: len(value) for key, value in peaks.items()}"
   ]
  },
  {
   "cell_type": "code",
   "execution_count": 14,
   "id": "a3862a90",
   "metadata": {},
   "outputs": [
    {
     "name": "stderr",
     "output_type": "stream",
     "text": [
      "<ipython-input-2-fa06b561dfcd>:38: DeprecationWarning: The default dtype for empty Series will be 'object' instead of 'float64' in a future version. Specify a dtype explicitly to silence this warning.\n",
      "  f_dict = dict([ (k,pd.Series(v)) for k,v in e_dict.items() ])\n"
     ]
    }
   ],
   "source": [
    "#Relaxation Rate \n",
    "df_tau,tau_array_d12[d12_val] = funcToPlot(tau, all_vals, peaks_count, data_len, max_df)\n",
    "#Relaxation Time\n",
    "df_time_val, lax_time_array_d12[d12_val] = funcToPlot(timeToRest, all_vals, peaks_count, data_len, max_df)\n",
    "#Contraction Rate\n",
    "df_up_val, up_array_d12[d12_val] = funcToPlot(backTau, all_vals, peaks_count, data_len, max_df)\n",
    "#Time at Max\n",
    "df_time_max_val, time_at_max_array_d12[d12_val] = funcToPlot(atMax, all_vals, peaks_count, data_len, max_df)"
   ]
  },
  {
   "cell_type": "markdown",
   "id": "0838731b",
   "metadata": {},
   "source": [
    "### CMCF"
   ]
  },
  {
   "cell_type": "code",
   "execution_count": 15,
   "id": "bf2ab28c",
   "metadata": {},
   "outputs": [],
   "source": [
    "d12_val = \"CMCF\" \n",
    "pathname = os.path.join(os.path.join(os.path.join('Full CMCF Data', 'CMCF'),\"D12\"),\"Strain_Data\")\n",
    "\n",
    "onlyfiles = [f for f in listdir(pathname) if isfile(join(pathname, f))]\n",
    "cmcfd12_datas = []\n",
    "\n",
    "for i in range(len(onlyfiles)):\n",
    "    cmcfd12 = sio.loadmat(os.path.join(pathname, onlyfiles[i]))\n",
    "    cmcfd12_datas.append(cmcfd12)"
   ]
  },
  {
   "cell_type": "code",
   "execution_count": 16,
   "id": "78a17095",
   "metadata": {},
   "outputs": [],
   "source": [
    "data_len = len(cmcfd12_datas)\n",
    "all_vals = {}\n",
    "peaks_count = {}\n",
    "peaks = {}\n",
    "max_vals = {}\n",
    "for i in range(len(cmcfd12_datas)):\n",
    "    x = cmcfd12_datas[i][\"E2\"]\n",
    "    num_counts = []\n",
    "    #determine baseline through trial and error with given part of cell experiences no contraction\n",
    "    val = .008\n",
    "    #loop through each image\n",
    "    for img in x.swapaxes(2,0).swapaxes(1,2) :\n",
    "        thresh_val = thresh(img,val)\n",
    "        num_counts.append(thresh_val)\n",
    "    all_vals[i] = num_counts\n",
    "    peaks[i], vals  = find_peaks(num_counts, prominence = .55, height = .5, width = 2)\n",
    "    max_vals[i] = vals[\"peak_heights\"]"
   ]
  },
  {
   "cell_type": "code",
   "execution_count": 17,
   "id": "9e71ed34",
   "metadata": {},
   "outputs": [],
   "source": [
    "max_dict = dict([ (k,pd.Series(v)) for k,v in max_vals.items() ])\n",
    "max_df = pd.DataFrame(max_dict)\n",
    "max_array_d12[d12_val] = np.concatenate(list(max_dict.values()))\n",
    "peaks_count = {key: len(value) for key, value in peaks.items()}"
   ]
  },
  {
   "cell_type": "code",
   "execution_count": 18,
   "id": "4d6044b5",
   "metadata": {},
   "outputs": [
    {
     "name": "stderr",
     "output_type": "stream",
     "text": [
      "<ipython-input-2-fa06b561dfcd>:38: DeprecationWarning: The default dtype for empty Series will be 'object' instead of 'float64' in a future version. Specify a dtype explicitly to silence this warning.\n",
      "  f_dict = dict([ (k,pd.Series(v)) for k,v in e_dict.items() ])\n"
     ]
    }
   ],
   "source": [
    "#Relaxation Rate \n",
    "df_tau,tau_array_d12[d12_val] = funcToPlot(tau, all_vals, peaks_count, data_len, max_df)\n",
    "#Relaxation Time\n",
    "df_time_val, lax_time_array_d12[d12_val] = funcToPlot(timeToRest, all_vals, peaks_count, data_len, max_df)\n",
    "#Contraction Rate\n",
    "df_up_val, up_array_d12[d12_val] = funcToPlot(backTau, all_vals, peaks_count, data_len, max_df)\n",
    "#Time at Max\n",
    "df_time_max_val, time_at_max_array_d12[d12_val] = funcToPlot(atMax, all_vals, peaks_count, data_len, max_df)"
   ]
  },
  {
   "cell_type": "markdown",
   "id": "42c8677b",
   "metadata": {},
   "source": [
    "### DCM"
   ]
  },
  {
   "cell_type": "code",
   "execution_count": 19,
   "id": "b2c92603",
   "metadata": {},
   "outputs": [],
   "source": [
    "d12_val = \"DCM\" \n",
    "pathname = os.path.join(os.path.join(os.path.join('Full CMCF Data', 'DCM'),\"D12\"),\"Strain_Data\")\n",
    "\n",
    "onlyfiles = [f for f in listdir(pathname) if isfile(join(pathname, f))]\n",
    "dcmd12_datas = []\n",
    "\n",
    "for i in range(len(onlyfiles)):\n",
    "    dcmd12 = sio.loadmat(os.path.join(pathname, onlyfiles[i]))\n",
    "    dcmd12_datas.append(dcmd12)"
   ]
  },
  {
   "cell_type": "code",
   "execution_count": 20,
   "id": "de7cf401",
   "metadata": {},
   "outputs": [],
   "source": [
    "data_len = len(dcmd12_datas)\n",
    "all_vals = {}\n",
    "peaks_count = {}\n",
    "peaks = {}\n",
    "max_vals = {}\n",
    "for i in range(len(dcmd12_datas)):\n",
    "    x = dcmd12_datas[i][\"E2\"]\n",
    "    num_counts = []\n",
    "    #determine baseline through trial and error with given part of cell experiences no contraction\n",
    "    val = .008\n",
    "    #loop through each image\n",
    "    for img in x.swapaxes(2,0).swapaxes(1,2) :\n",
    "        thresh_val = thresh(img,val)\n",
    "        num_counts.append(thresh_val)\n",
    "    all_vals[i] = num_counts\n",
    "    peaks[i], vals  = find_peaks(num_counts, prominence = .5, height = .5, width = 2)\n",
    "    max_vals[i] = vals[\"peak_heights\"]"
   ]
  },
  {
   "cell_type": "code",
   "execution_count": 21,
   "id": "2d5eedc0",
   "metadata": {},
   "outputs": [],
   "source": [
    "max_dict = dict([ (k,pd.Series(v)) for k,v in max_vals.items() ])\n",
    "max_df = pd.DataFrame(max_dict)\n",
    "max_array_d12[d12_val] = np.concatenate(list(max_dict.values()))\n",
    "peaks_count = {key: len(value) for key, value in peaks.items()}"
   ]
  },
  {
   "cell_type": "code",
   "execution_count": 22,
   "id": "984e5163",
   "metadata": {},
   "outputs": [
    {
     "name": "stderr",
     "output_type": "stream",
     "text": [
      "<ipython-input-2-fa06b561dfcd>:38: DeprecationWarning: The default dtype for empty Series will be 'object' instead of 'float64' in a future version. Specify a dtype explicitly to silence this warning.\n",
      "  f_dict = dict([ (k,pd.Series(v)) for k,v in e_dict.items() ])\n"
     ]
    }
   ],
   "source": [
    "#Relaxation Rate \n",
    "df_tau,tau_array_d12[d12_val] = funcToPlot(tau, all_vals, peaks_count, data_len, max_df)\n",
    "#Relaxation Time\n",
    "df_time_val, lax_time_array_d12[d12_val] = funcToPlot(timeToRest, all_vals, peaks_count, data_len, max_df)\n",
    "#Contraction Rate\n",
    "df_up_val, up_array_d12[d12_val] = funcToPlot(backTau, all_vals, peaks_count, data_len, max_df)\n",
    "#Time at Max\n",
    "df_time_max_val, time_at_max_array_d12[d12_val] = funcToPlot(atMax, all_vals, peaks_count, data_len, max_df)"
   ]
  },
  {
   "cell_type": "markdown",
   "id": "87858ad4",
   "metadata": {},
   "source": [
    "### Visuals"
   ]
  },
  {
   "cell_type": "code",
   "execution_count": 23,
   "id": "99304f7c",
   "metadata": {},
   "outputs": [
    {
     "data": {
      "text/plain": [
       "Text(0.5, 1.0, 'Highest Percentage of Cells Contracting in Each Strain on Day 12')"
      ]
     },
     "execution_count": 23,
     "metadata": {},
     "output_type": "execute_result"
    },
    {
     "data": {
      "image/png": "[encoded data removed]",
      "text/plain": [
       "<Figure size 720x360 with 1 Axes>"
      ]
     },
     "metadata": {},
     "output_type": "display_data"
    }
   ],
   "source": [
    "g = plot_box(max_array_d12,0)\n",
    "g.set_title(\"Highest Percentage of Cells Contracting in Each Strain on Day 12\")"
   ]
  },
  {
   "cell_type": "code",
   "execution_count": 24,
   "id": "e9ecd720",
   "metadata": {},
   "outputs": [
    {
     "data": {
      "text/plain": [
       "Text(0.5, 1.0, 'Relaxation Rate of Cells in Each Strain on Day 12')"
      ]
     },
     "execution_count": 24,
     "metadata": {},
     "output_type": "execute_result"
    },
    {
     "data": {
      "image/png": "[encoded data removed]",
      "text/plain": [
       "<Figure size 720x360 with 1 Axes>"
      ]
     },
     "metadata": {},
     "output_type": "display_data"
    }
   ],
   "source": [
    "g = plot_box(tau_array_d12,1)\n",
    "g.set_title(\"Relaxation Rate of Cells in Each Strain on Day 12\")"
   ]
  },
  {
   "cell_type": "code",
   "execution_count": 25,
   "id": "7ec254dc",
   "metadata": {},
   "outputs": [
    {
     "data": {
      "text/plain": [
       "Text(0.5, 1.0, 'Time of Cells Relaxing in Each Strain on Day 12')"
      ]
     },
     "execution_count": 25,
     "metadata": {},
     "output_type": "execute_result"
    },
    {
     "data": {
      "image/png": "[encoded data removed]",
      "text/plain": [
       "<Figure size 720x360 with 1 Axes>"
      ]
     },
     "metadata": {},
     "output_type": "display_data"
    }
   ],
   "source": [
    "#lax array\n",
    "g = plot_box(lax_time_array_d12,2)\n",
    "g.set_title(\"Time of Cells Relaxing in Each Strain on Day 12\")"
   ]
  },
  {
   "cell_type": "code",
   "execution_count": 26,
   "id": "e38ab409",
   "metadata": {},
   "outputs": [
    {
     "data": {
      "text/plain": [
       "Text(0.5, 1.0, 'Contraction Rate in Each Strain on Day 12')"
      ]
     },
     "execution_count": 26,
     "metadata": {},
     "output_type": "execute_result"
    },
    {
     "data": {
      "image/png": "[encoded data removed]",
      "text/plain": [
       "<Figure size 720x360 with 1 Axes>"
      ]
     },
     "metadata": {},
     "output_type": "display_data"
    }
   ],
   "source": [
    "g = plot_box(up_array_d12,3)\n",
    "g.set_title(\"Contraction Rate in Each Strain on Day 12\")"
   ]
  },
  {
   "cell_type": "code",
   "execution_count": 27,
   "id": "c5abe976",
   "metadata": {},
   "outputs": [],
   "source": [
    "%run -i cmcf_functions.ipynb"
   ]
  },
  {
   "cell_type": "code",
   "execution_count": 28,
   "id": "769270be",
   "metadata": {},
   "outputs": [
    {
     "data": {
      "text/plain": [
       "Text(0.5, 1.0, 'Time of Contraction in Each Strain on Day 12')"
      ]
     },
     "execution_count": 28,
     "metadata": {},
     "output_type": "execute_result"
    },
    {
     "data": {
      "image/png": "[encoded data removed]",
      "text/plain": [
       "<Figure size 720x360 with 1 Axes>"
      ]
     },
     "metadata": {},
     "output_type": "display_data"
    }
   ],
   "source": [
    "g = plot_box(time_at_max_array_d12,4)\n",
    "g.set_yticks(np.arange(-10,100,10))\n",
    "g.set_title(\"Time of Contraction in Each Strain on Day 12\")"
   ]
  },
  {
   "cell_type": "code",
   "execution_count": 29,
   "id": "c57f7534",
   "metadata": {},
   "outputs": [],
   "source": [
    "# file to be used\n",
    "shelf = shelve.open(\"day12.shlf\")\n",
    "\n",
    "# serializing\n",
    "shelf[\"max_array_d12\"] = max_array_d12\n",
    "shelf[\"lax_time_array_d12\"] = lax_time_array_d12\n",
    "shelf[\"tau_array_d12\"] = tau_array_d12\n",
    "shelf[\"up_array_d12\"] = up_array_d12\n",
    "shelf[\"time_at_max_array_d12\"] = time_at_max_array_d12\n",
    "\n",
    "shelf.close() # you must close the shelve file!!!"
   ]
  },
  {
   "cell_type": "code",
   "execution_count": 30,
   "id": "fd5983bb",
   "metadata": {},
   "outputs": [],
   "source": [
    "#Pad array to convert to excel\n",
    "\n",
    "max_df = array_to_df(max_array_d12)\n",
    "lax_df = array_to_df(lax_time_array_d12)\n",
    "tau_df = array_to_df(tau_array_d12)\n",
    "up_df = array_to_df(up_array_d12)\n",
    "time_df = array_to_df(time_at_max_array_d12)\n",
    "with pd.ExcelWriter('day12.xlsx') as writer:  \n",
    "    max_df.to_excel(writer, sheet_name = \"max\")\n",
    "    lax_df.to_excel(writer, sheet_name = \"lax\")\n",
    "    tau_df.to_excel(writer, sheet_name = \"tau\")\n",
    "    up_df.to_excel(writer, sheet_name = \"up\")\n",
    "    time_df.to_excel(writer, sheet_name = \"time\")"
   ]
  }
 ],
 "metadata": {
  "kernelspec": {
   "display_name": "Python 3",
   "language": "python",
   "name": "python3"
  },
  "language_info": {
   "codemirror_mode": {
    "name": "ipython",
    "version": 3
   },
   "file_extension": ".py",
   "mimetype": "text/x-python",
   "name": "python",
   "nbconvert_exporter": "python",
   "pygments_lexer": "ipython3",
   "version": "3.8.8"
  }
 },
 "nbformat": 4,
 "nbformat_minor": 5
}
