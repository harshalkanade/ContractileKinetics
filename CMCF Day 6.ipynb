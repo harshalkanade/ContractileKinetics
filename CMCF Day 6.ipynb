{
 "cells": [
  {
   "cell_type": "code",
   "execution_count": 1,
   "id": "a312d251",
   "metadata": {},
   "outputs": [],
   "source": [
    "import pandas as pd\n",
    "import pyspark as spark\n",
    "import seaborn as sns\n",
    "import matplotlib.pyplot  as plt\n",
    "import numpy as np\n",
    "import os.path\n",
    "from os import listdir\n",
    "from os.path import isfile, join\n",
    "import scipy.io as sio\n",
    "from scipy.signal import find_peaks \n",
    "from bioinfokit.analys import stat\n",
    "import math\n",
    "import shelve"
   ]
  },
  {
   "cell_type": "code",
   "execution_count": 2,
   "id": "83cb23de",
   "metadata": {},
   "outputs": [],
   "source": [
    "%run -i cmcf_functions.ipynb"
   ]
  },
  {
   "cell_type": "code",
   "execution_count": 3,
   "id": "233d2751",
   "metadata": {},
   "outputs": [],
   "source": [
    "pd.set_option('display.max_columns', None)"
   ]
  },
  {
   "cell_type": "code",
   "execution_count": 4,
   "id": "a075654a",
   "metadata": {},
   "outputs": [],
   "source": [
    "sns.set(rc={'figure.figsize':(10,5)})\n",
    "res = stat()\n",
    "ordered = [\"CM\", \"Condition Media\", \"CMCF\" ,  \"DCM\"]"
   ]
  },
  {
   "cell_type": "code",
   "execution_count": 5,
   "id": "a2e42496",
   "metadata": {},
   "outputs": [],
   "source": [
    "max_array_d6 = {}\n",
    "tau_array_d6 = {}\n",
    "lax_time_array_d6 = {}\n",
    "up_array_d6 = {}\n",
    "time_at_max_array_d6  = {}"
   ]
  },
  {
   "cell_type": "markdown",
   "id": "8dc9fc39",
   "metadata": {},
   "source": [
    "## DAY 6"
   ]
  },
  {
   "cell_type": "markdown",
   "id": "5933d825",
   "metadata": {},
   "source": [
    "### CF"
   ]
  },
  {
   "cell_type": "code",
   "execution_count": 6,
   "id": "5cc95564",
   "metadata": {},
   "outputs": [],
   "source": [
    "d6_val = \"Condition Media\" \n",
    "pathname = os.path.join(os.path.join(os.path.join('Full CMCF Data', 'CF'),\"D6\"),\"Strain_Data\")\n",
    "\n",
    "onlyfiles = [f for f in listdir(pathname) if isfile(join(pathname, f))]\n",
    "cfd6_datas = []\n",
    "\n",
    "for i in range(len(onlyfiles)):\n",
    "    cfd6 = sio.loadmat(os.path.join(pathname, onlyfiles[i]))\n",
    "    cfd6_datas.append(cfd6)\n"
   ]
  },
  {
   "cell_type": "code",
   "execution_count": 7,
   "id": "4468bf30",
   "metadata": {},
   "outputs": [],
   "source": [
    "data_len = len(cfd6_datas)\n",
    "all_vals = {}\n",
    "peaks_count = {}\n",
    "peaks = {}\n",
    "max_vals = {}\n",
    "for i in range(len(cfd6_datas)):\n",
    "    x = cfd6_datas[i][\"E2\"]\n",
    "    num_counts = []\n",
    "    #determine baseline through trial and error with given part of cell experiences no contraction\n",
    "    val = .008\n",
    "    #loop through each image\n",
    "    for img in x.swapaxes(2,0).swapaxes(1,2) :\n",
    "        thresh_val = thresh(img,val)\n",
    "        num_counts.append(thresh_val)\n",
    "    all_vals[i] = num_counts\n",
    "    peaks[i], vals  = find_peaks(num_counts, prominence = .55, height = .5, width = 2)\n",
    "    max_vals[i] = vals[\"peak_heights\"]"
   ]
  },
  {
   "cell_type": "code",
   "execution_count": 8,
   "id": "66945ac5",
   "metadata": {},
   "outputs": [],
   "source": [
    "max_dict = dict([ (k,pd.Series(v)) for k,v in max_vals.items() ])\n",
    "max_df = pd.DataFrame(max_dict)\n",
    "max_array_d6[d6_val] = np.concatenate(list(max_dict.values()))\n",
    "peaks_count = {key: len(value) for key, value in peaks.items()}"
   ]
  },
  {
   "cell_type": "code",
   "execution_count": 9,
   "id": "b1491a44",
   "metadata": {},
   "outputs": [],
   "source": [
    "#Relaxation Rate \n",
    "df_tau,tau_array_d6[d6_val] = funcToPlot(tau, all_vals, peaks_count, data_len, max_df)\n",
    "#Relaxation Time\n",
    "df_time_val, lax_time_array_d6[d6_val] = funcToPlot(timeToRest, all_vals, peaks_count, data_len, max_df)\n",
    "#Contraction Rate\n",
    "df_up_val, up_array_d6[d6_val] = funcToPlot(backTau, all_vals, peaks_count, data_len, max_df)\n",
    "#Time at Max\n",
    "df_time_max_val, time_at_max_array_d6[d6_val] = funcToPlot(atMax, all_vals, peaks_count, data_len, max_df)"
   ]
  },
  {
   "cell_type": "code",
   "execution_count": 10,
   "id": "20d27ab5",
   "metadata": {},
   "outputs": [],
   "source": [
    "\n",
    "# for i in range(len(cfd6_datas)):\n",
    "   \n",
    "#     x = cfd6_datas[i][\"E2\"]\n",
    "    \n",
    "#     num_counts = []\n",
    "#     #determine baseline through trial and error with given part of cell experiences no contraction\n",
    "#     val = .008\n",
    "#     #loop through each image\n",
    "#     for img in x.swapaxes(2,0).swapaxes(1,2) :\n",
    "#         thresh_val = thresh(img,val)\n",
    "#         num_counts.append(thresh_val)\n",
    "#     df = pd.DataFrame(dict(x = np.arange(0,x.shape[2]), y = num_counts)) \n",
    "#     plt.figure()\n",
    "#     g = sns.lineplot(data = df, y = \"y\", x= \"x\")\n",
    "#     g.set_xticks(np.arange(0,275,10))\n",
    "#     g.set_title(i)\n",
    "  \n",
    "  "
   ]
  },
  {
   "cell_type": "markdown",
   "id": "60e3e270",
   "metadata": {},
   "source": [
    "### CM"
   ]
  },
  {
   "cell_type": "code",
   "execution_count": 11,
   "id": "41ef659d",
   "metadata": {},
   "outputs": [],
   "source": [
    "d6_val = \"CM\" \n",
    "pathname = os.path.join(os.path.join(os.path.join('Full CMCF Data', 'CM'),\"D6\"),\"Strain_Data\")\n",
    "\n",
    "onlyfiles = [f for f in listdir(pathname) if isfile(join(pathname, f))]\n",
    "cmd6_datas = []\n",
    "\n",
    "for i in range(len(onlyfiles)):\n",
    "    cmd6 = sio.loadmat(os.path.join(pathname, onlyfiles[i]))\n",
    "    cmd6_datas.append(cmd6)"
   ]
  },
  {
   "cell_type": "code",
   "execution_count": 12,
   "id": "9eb5e680",
   "metadata": {},
   "outputs": [
    {
     "data": {
      "text/plain": [
       "'Full CMCF Data\\\\CM\\\\D6\\\\Strain_Data'"
      ]
     },
     "execution_count": 12,
     "metadata": {},
     "output_type": "execute_result"
    }
   ],
   "source": [
    "pathname"
   ]
  },
  {
   "cell_type": "code",
   "execution_count": 13,
   "id": "bf889f52",
   "metadata": {},
   "outputs": [],
   "source": [
    "data_len = len(cmd6_datas)\n",
    "all_vals = {}\n",
    "peaks_count = {}\n",
    "peaks = {}\n",
    "max_vals = {}\n",
    "for i in range(len(cmd6_datas)):\n",
    "    x = cmd6_datas[i][\"E2\"]\n",
    "    num_counts = []\n",
    "    #determine baseline through trial and error with given part of cell experiences no contraction\n",
    "    val = .008\n",
    "    #loop through each image\n",
    "    for img in x.swapaxes(2,0).swapaxes(1,2) :\n",
    "        thresh_val = thresh(img,val)\n",
    "        num_counts.append(thresh_val)\n",
    "    all_vals[i] = num_counts\n",
    "    peaks[i], vals  = find_peaks(num_counts, prominence = .55, height = .5, width = 2)\n",
    "    max_vals[i] = vals[\"peak_heights\"]"
   ]
  },
  {
   "cell_type": "code",
   "execution_count": 14,
   "id": "ab518b41",
   "metadata": {},
   "outputs": [],
   "source": [
    "max_dict = dict([ (k,pd.Series(v)) for k,v in max_vals.items() ])\n",
    "max_df = pd.DataFrame(max_dict)\n",
    "max_array_d6[d6_val] = np.concatenate(list(max_dict.values()))\n",
    "peaks_count = {key: len(value) for key, value in peaks.items()}"
   ]
  },
  {
   "cell_type": "code",
   "execution_count": 15,
   "id": "0f250e9d",
   "metadata": {},
   "outputs": [
    {
     "name": "stderr",
     "output_type": "stream",
     "text": [
      "<ipython-input-2-fa06b561dfcd>:38: DeprecationWarning: The default dtype for empty Series will be 'object' instead of 'float64' in a future version. Specify a dtype explicitly to silence this warning.\n",
      "  f_dict = dict([ (k,pd.Series(v)) for k,v in e_dict.items() ])\n"
     ]
    }
   ],
   "source": [
    "#Relaxation Rate \n",
    "df_tau,tau_array_d6[d6_val] = funcToPlot(tau, all_vals, peaks_count, data_len, max_df)\n",
    "#Relaxation Time\n",
    "df_time_val, lax_time_array_d6[d6_val] = funcToPlot(timeToRest, all_vals, peaks_count, data_len, max_df)\n",
    "#Contraction Rate\n",
    "df_up_val, up_array_d6[d6_val] = funcToPlot(backTau, all_vals, peaks_count, data_len, max_df)\n",
    "#Time at Max\n",
    "df_time_max_val, time_at_max_array_d6[d6_val] = funcToPlot(atMax, all_vals, peaks_count, data_len, max_df)"
   ]
  },
  {
   "cell_type": "code",
   "execution_count": 16,
   "id": "ceecbd79",
   "metadata": {},
   "outputs": [],
   "source": [
    "time_at_max_array_d6[d6_val] = time_at_max_array_d6[d6_val][time_at_max_array_d6[d6_val] < 60]"
   ]
  },
  {
   "cell_type": "code",
   "execution_count": 17,
   "id": "f01d0872",
   "metadata": {},
   "outputs": [],
   "source": [
    "# for i in range(len(cmd6_datas)):\n",
    "   \n",
    "#     x = cmd6_datas[i][\"E2\"]\n",
    "    \n",
    "#     num_counts = []\n",
    "#     #determine baseline through trial and error with given part of cell experiences no contraction\n",
    "#     val = .008\n",
    "#     #loop through each image\n",
    "#     for img in x.swapaxes(2,0).swapaxes(1,2) :\n",
    "#         thresh_val = thresh(img,val)\n",
    "#         num_counts.append(thresh_val)\n",
    "#     df = pd.DataFrame(dict(x = np.arange(0,x.shape[2]), y = num_counts)) \n",
    "#     plt.figure()\n",
    "#     g = sns.lineplot(data = df, y = \"y\", x= \"x\")\n",
    "#     g.set_xticks(np.arange(0,300,10))\n",
    "#     g.set_title(i)"
   ]
  },
  {
   "cell_type": "markdown",
   "id": "37b0b7c5",
   "metadata": {},
   "source": [
    "### CMCF"
   ]
  },
  {
   "cell_type": "code",
   "execution_count": 18,
   "id": "f529c000",
   "metadata": {},
   "outputs": [],
   "source": [
    "d6_val = \"CMCF\" \n",
    "pathname = os.path.join(os.path.join(os.path.join('Full CMCF Data', 'CMCF'),\"D6\"),\"Strain_Data\")\n",
    "\n",
    "onlyfiles = [f for f in listdir(pathname) if isfile(join(pathname, f))]\n",
    "cmcfd6_datas = []\n",
    "\n",
    "for i in range(len(onlyfiles)):\n",
    "    cmcfd6 = sio.loadmat(os.path.join(pathname, onlyfiles[i]))\n",
    "    cmcfd6_datas.append(cmcfd6)"
   ]
  },
  {
   "cell_type": "code",
   "execution_count": 19,
   "id": "cb13a72f",
   "metadata": {},
   "outputs": [],
   "source": [
    "data_len = len(cmcfd6_datas)\n",
    "all_vals = {}\n",
    "peaks_count = {}\n",
    "peaks = {}\n",
    "max_vals = {}\n",
    "for i in range(len(cmcfd6_datas)):\n",
    "    x = cmcfd6_datas[i][\"E2\"]\n",
    "    num_counts = []\n",
    "    #determine baseline through trial and error with given part of cell experiences no contraction\n",
    "    val = .008\n",
    "    #loop through each image\n",
    "    for img in x.swapaxes(2,0).swapaxes(1,2) :\n",
    "        thresh_val = thresh(img,val)\n",
    "        num_counts.append(thresh_val)\n",
    "    all_vals[i] = num_counts\n",
    "    peaks[i], vals  = find_peaks(num_counts, prominence = .5, height = .5, width = 2)\n",
    "    max_vals[i] = vals[\"peak_heights\"]"
   ]
  },
  {
   "cell_type": "code",
   "execution_count": 20,
   "id": "33f5615c",
   "metadata": {},
   "outputs": [],
   "source": [
    "max_dict = dict([ (k,pd.Series(v)) for k,v in max_vals.items() ])\n",
    "max_df = pd.DataFrame(max_dict)\n",
    "max_array_d6[d6_val] = np.concatenate(list(max_dict.values()))\n",
    "peaks_count = {key: len(value) for key, value in peaks.items()}"
   ]
  },
  {
   "cell_type": "code",
   "execution_count": 21,
   "id": "0f454079",
   "metadata": {},
   "outputs": [],
   "source": [
    "#Relaxation Rate \n",
    "df_tau,tau_array_d6[d6_val] = funcToPlot(tau, all_vals, peaks_count, data_len, max_df)\n",
    "#Relaxation Time\n",
    "df_time_val, lax_time_array_d6[d6_val] = funcToPlot(timeToRest, all_vals, peaks_count, data_len, max_df)\n",
    "#Contraction Rate\n",
    "df_up_val, up_array_d6[d6_val] = funcToPlot(backTau, all_vals, peaks_count, data_len, max_df)\n",
    "#Time at Max\n",
    "df_time_max_val, time_at_max_array_d6[d6_val] = funcToPlot(atMax, all_vals, peaks_count, data_len, max_df)"
   ]
  },
  {
   "cell_type": "code",
   "execution_count": 22,
   "id": "01d56cea",
   "metadata": {},
   "outputs": [],
   "source": [
    "\n",
    "# for i in range(len(cmcfd6_datas)):\n",
    "   \n",
    "#     x = cmcfd6_datas[i][\"E2\"]\n",
    "    \n",
    "#     num_counts = []\n",
    "#     #determine baseline through trial and error with given part of cell experiences no contraction\n",
    "#     val = .008\n",
    "#     #loop through each image\n",
    "#     for img in x.swapaxes(2,0).swapaxes(1,2) :\n",
    "#         thresh_val = thresh(img,val)\n",
    "#         num_counts.append(thresh_val)\n",
    "#     df = pd.DataFrame(dict(x = np.arange(0,x.shape[2]), y = num_counts)) \n",
    "#     plt.figure()\n",
    "#     g = sns.lineplot(data = df, y = \"y\", x= \"x\")\n",
    "#     g.set_xticks(np.arange(0,150,10))\n",
    "#     g.set_title(i)"
   ]
  },
  {
   "cell_type": "markdown",
   "id": "f0b8559d",
   "metadata": {},
   "source": [
    "### DCM"
   ]
  },
  {
   "cell_type": "code",
   "execution_count": 23,
   "id": "7402ff8a",
   "metadata": {},
   "outputs": [],
   "source": [
    "d6_val = \"DCM\" \n",
    "pathname = os.path.join(os.path.join(os.path.join('Full CMCF Data', 'DCM'),\"D6\"),\"Strain_Data\")\n",
    "\n",
    "onlyfiles = [f for f in listdir(pathname) if isfile(join(pathname, f))]\n",
    "dcmd6_datas = []\n",
    "\n",
    "for i in range(len(onlyfiles)):\n",
    "    dcmd6 = sio.loadmat(os.path.join(pathname, onlyfiles[i]))\n",
    "    dcmd6_datas.append(dcmd6)"
   ]
  },
  {
   "cell_type": "code",
   "execution_count": 24,
   "id": "e7f95d6d",
   "metadata": {},
   "outputs": [],
   "source": [
    "data_len = len(dcmd6_datas)\n",
    "all_vals = {}\n",
    "peaks_count = {}\n",
    "peaks = {}\n",
    "max_vals = {}\n",
    "for i in range(len(dcmd6_datas)):\n",
    "    x = dcmd6_datas[i][\"E2\"]\n",
    "    num_counts = []\n",
    "    #determine baseline through trial and error with given part of cell experiences no contraction\n",
    "    val = .008\n",
    "    #loop through each image\n",
    "    for img in x.swapaxes(2,0).swapaxes(1,2) :\n",
    "        thresh_val = thresh(img,val)\n",
    "        num_counts.append(thresh_val)\n",
    "    all_vals[i] = num_counts\n",
    "    peaks[i], vals  = find_peaks(num_counts, prominence = .5, height = .5, width = 2)\n",
    "    max_vals[i] = vals[\"peak_heights\"]"
   ]
  },
  {
   "cell_type": "code",
   "execution_count": 25,
   "id": "0f66c165",
   "metadata": {},
   "outputs": [],
   "source": [
    "max_dict = dict([ (k,pd.Series(v)) for k,v in max_vals.items() ])\n",
    "max_df = pd.DataFrame(max_dict)\n",
    "max_array_d6[d6_val] = np.concatenate(list(max_dict.values()))\n",
    "peaks_count = {key: len(value) for key, value in peaks.items()}"
   ]
  },
  {
   "cell_type": "code",
   "execution_count": 26,
   "id": "7731c724",
   "metadata": {},
   "outputs": [],
   "source": [
    "#Relaxation Rate \n",
    "df_tau,tau_array_d6[d6_val] = funcToPlot(tau, all_vals, peaks_count, data_len, max_df)\n",
    "#Relaxation Time\n",
    "df_time_val, lax_time_array_d6[d6_val] = funcToPlot(timeToRest, all_vals, peaks_count, data_len, max_df)\n",
    "#Contraction Rate\n",
    "df_up_val, up_array_d6[d6_val] = funcToPlot(backTau, all_vals, peaks_count, data_len, max_df)\n",
    "#Time at Max\n",
    "df_time_max_val, time_at_max_array_d6[d6_val] = funcToPlot(atMax, all_vals, peaks_count, data_len, max_df)"
   ]
  },
  {
   "cell_type": "code",
   "execution_count": 27,
   "id": "83db76ae",
   "metadata": {},
   "outputs": [],
   "source": [
    "\n",
    "# for i in range(len(dcmd6_datas)):\n",
    "   \n",
    "#     x = dcmd6_datas[i][\"E2\"]\n",
    "    \n",
    "#     num_counts = []\n",
    "#     #determine baseline through trial and error with given part of cell experiences no contraction\n",
    "#     val = .008\n",
    "#     #loop through each image\n",
    "#     for img in x.swapaxes(2,0).swapaxes(1,2) :\n",
    "#         thresh_val = thresh(img,val)\n",
    "#         num_counts.append(thresh_val)\n",
    "#     df = pd.DataFrame(dict(x = np.arange(0,x.shape[2]), y = num_counts)) \n",
    "#     plt.figure()\n",
    "#     g = sns.lineplot(data = df, y = \"y\", x= \"x\")\n",
    "#     g.set_xticks(np.arange(0,150,10))\n",
    "#     g.set_title(i)"
   ]
  },
  {
   "cell_type": "markdown",
   "id": "2b0b834c",
   "metadata": {},
   "source": [
    "### Visuals"
   ]
  },
  {
   "cell_type": "code",
   "execution_count": 28,
   "id": "05998bfc",
   "metadata": {},
   "outputs": [],
   "source": [
    "%run -i cmcf_functions.ipynb"
   ]
  },
  {
   "cell_type": "code",
   "execution_count": 29,
   "id": "79d59d49",
   "metadata": {},
   "outputs": [
    {
     "data": {
      "text/plain": [
       "Text(0.5, 1.0, 'Highest Percentage of Cells Contracting in Each Strain on Day 6')"
      ]
     },
     "execution_count": 29,
     "metadata": {},
     "output_type": "execute_result"
    },
    {
     "data": {
      "image/png": "[encoded data removed]",
      "text/plain": [
       "<Figure size 720x360 with 1 Axes>"
      ]
     },
     "metadata": {},
     "output_type": "display_data"
    }
   ],
   "source": [
    "g = plot_box(max_array_d6, 0)\n",
    "g.set_title(\"Highest Percentage of Cells Contracting in Each Strain on Day 6\")"
   ]
  },
  {
   "cell_type": "code",
   "execution_count": 30,
   "id": "a89ab460",
   "metadata": {},
   "outputs": [],
   "source": [
    "# tau_array_d6[\"CM\"] = tau_array_d6[\"CM\"][tau_array_d6[\"CM\"] < .0068]\n",
    "# tau_array_d6[\"CMCF\"] = tau_array_d6[\"CMCF\"][tau_array_d6[\"CMCF\"] < .01]"
   ]
  },
  {
   "cell_type": "code",
   "execution_count": 31,
   "id": "0087d8de",
   "metadata": {},
   "outputs": [
    {
     "data": {
      "text/plain": [
       "Text(0.5, 1.0, 'Relaxation Rate of Cells in Each Strain on Day 6 ')"
      ]
     },
     "execution_count": 31,
     "metadata": {},
     "output_type": "execute_result"
    },
    {
     "data": {
      "image/png": "[encoded data removed]",
      "text/plain": [
       "<Figure size 720x360 with 1 Axes>"
      ]
     },
     "metadata": {},
     "output_type": "display_data"
    }
   ],
   "source": [
    "g = plot_box(tau_array_d6,1)\n",
    "g.set_title(\"Relaxation Rate of Cells in Each Strain on Day 6 \")"
   ]
  },
  {
   "cell_type": "code",
   "execution_count": 32,
   "id": "23ed9384",
   "metadata": {},
   "outputs": [
    {
     "data": {
      "text/plain": [
       "Text(0.5, 1.0, 'Time of Cells Relaxing in Each Strain on Day 6')"
      ]
     },
     "execution_count": 32,
     "metadata": {},
     "output_type": "execute_result"
    },
    {
     "data": {
      "image/png": "[encoded data removed]",
      "text/plain": [
       "<Figure size 720x360 with 1 Axes>"
      ]
     },
     "metadata": {},
     "output_type": "display_data"
    }
   ],
   "source": [
    "#lax array\n",
    "g = plot_box(lax_time_array_d6,2)\n",
    "g.set_title(\"Time of Cells Relaxing in Each Strain on Day 6\")"
   ]
  },
  {
   "cell_type": "code",
   "execution_count": 33,
   "id": "7fbce0da",
   "metadata": {},
   "outputs": [
    {
     "data": {
      "text/plain": [
       "Text(0.5, 1.0, 'Contraction Rate in Each Strain on Day 6')"
      ]
     },
     "execution_count": 33,
     "metadata": {},
     "output_type": "execute_result"
    },
    {
     "data": {
      "image/png": "[encoded data removed]",
      "text/plain": [
       "<Figure size 720x360 with 1 Axes>"
      ]
     },
     "metadata": {},
     "output_type": "display_data"
    }
   ],
   "source": [
    "g = plot_box(up_array_d6,3)\n",
    "g.set_title(\"Contraction Rate in Each Strain on Day 6\")"
   ]
  },
  {
   "cell_type": "code",
   "execution_count": 34,
   "id": "99fa690f",
   "metadata": {},
   "outputs": [
    {
     "data": {
      "text/plain": [
       "Text(0.5, 1.0, 'Time of Contraction in Each Strain on Day 6')"
      ]
     },
     "execution_count": 34,
     "metadata": {},
     "output_type": "execute_result"
    },
    {
     "data": {
      "image/png": "[encoded data removed]",
      "text/plain": [
       "<Figure size 720x360 with 1 Axes>"
      ]
     },
     "metadata": {},
     "output_type": "display_data"
    }
   ],
   "source": [
    "g = plot_box(time_at_max_array_d6,4)\n",
    "g.set_title(\"Time of Contraction in Each Strain on Day 6\")"
   ]
  },
  {
   "cell_type": "code",
   "execution_count": 35,
   "id": "ef143f92",
   "metadata": {},
   "outputs": [],
   "source": [
    "## save each array into file and then add to full data to get grouped values"
   ]
  },
  {
   "cell_type": "code",
   "execution_count": 36,
   "id": "1659197a",
   "metadata": {},
   "outputs": [],
   "source": [
    "# file to be used\n",
    "shelf = shelve.open(\"day6.shlf\")\n",
    "\n",
    "# serializing\n",
    "shelf[\"max_array_d6\"] = max_array_d6\n",
    "shelf[\"lax_time_array_d6\"] = lax_time_array_d6\n",
    "shelf[\"tau_array_d6\"] = tau_array_d6\n",
    "shelf[\"up_array_d6\"] = up_array_d6\n",
    "shelf[\"time_at_max_array_d6\"] = time_at_max_array_d6\n",
    "\n",
    "shelf.close() # you must close the shelve file!!!"
   ]
  },
  {
   "cell_type": "code",
   "execution_count": 42,
   "id": "3926af82",
   "metadata": {},
   "outputs": [],
   "source": [
    "#Pad array to convert to excel\n",
    "\n",
    "max_df = array_to_df(max_array_d6)\n",
    "lax_df = array_to_df(lax_time_array_d6)\n",
    "tau_df = array_to_df(tau_array_d6)\n",
    "up_df = array_to_df(up_array_d6)\n",
    "time_df = array_to_df(time_at_max_array_d6)\n",
    "with pd.ExcelWriter('day6.xlsx') as writer:  \n",
    "    max_df.to_excel(writer, sheet_name = \"max\")\n",
    "    lax_df.to_excel(writer, sheet_name = \"lax\")\n",
    "    tau_df.to_excel(writer, sheet_name = \"tau\")\n",
    "    up_df.to_excel(writer, sheet_name = \"up\")\n",
    "    time_df.to_excel(writer, sheet_name = \"time\")\n"
   ]
  }
 ],
 "metadata": {
  "kernelspec": {
   "display_name": "Python 3",
   "language": "python",
   "name": "python3"
  },
  "language_info": {
   "codemirror_mode": {
    "name": "ipython",
    "version": 3
   },
   "file_extension": ".py",
   "mimetype": "text/x-python",
   "name": "python",
   "nbconvert_exporter": "python",
   "pygments_lexer": "ipython3",
   "version": "3.8.8"
  }
 },
 "nbformat": 4,
 "nbformat_minor": 5
}
